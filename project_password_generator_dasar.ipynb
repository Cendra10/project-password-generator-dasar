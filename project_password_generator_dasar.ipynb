{
  "cells": [
    {
      "cell_type": "code",
      "execution_count": 9,
      "metadata": {
        "colab": {
          "base_uri": "https://localhost:8080/"
        },
        "id": "_gFyUjn1-anM",
        "outputId": "6f5378ce-fef6-44ad-9e4f-9c74b1734b0b"
      },
      "outputs": [
        {
          "output_type": "stream",
          "name": "stdout",
          "text": [
            "Masukkan panjang password (minimal 6 karakter): 6\n",
            "Panjang password anda adalah: 6\n",
            "Password anda adalah: ]Mdp74\n"
          ]
        }
      ],
      "source": [
        "#Uji Coba Password Generator Dasar\n",
        "import random\n",
        "\n",
        "letters = \"abcdefghijklmnopqrstuvwxyzABCDEFGHIJKLMNOPQRSTUVWXYZ\"\n",
        "numbers = \"1234567890\"\n",
        "symbols = \"!@#$%^&*()-_=+[]{}:.,<>?/\\\\|`'\"\n",
        "\n",
        "all_characters = letters + numbers + symbols\n",
        "\n",
        "while True:\n",
        "    try:\n",
        "        length = int(input(\"Masukkan panjang password (minimal 6 karakter): \"))\n",
        "        if length < 6:\n",
        "            print(\"Panjang password minimal 6 karakter! Silakan coba lagi.\")\n",
        "        else:\n",
        "            break\n",
        "    except ValueError:\n",
        "        print(\"Masukkan angka yang valid!\")\n",
        "\n",
        "password = \"\".join(random.choices(all_characters, k=length))\n",
        "print(\"Panjang password anda adalah:\", length)\n",
        "print(\"Password anda adalah:\", password)"
      ]
    },
    {
      "cell_type": "code",
      "execution_count": 10,
      "metadata": {
        "colab": {
          "base_uri": "https://localhost:8080/"
        },
        "id": "r6wBwVVwp0I2",
        "outputId": "843c9723-8ac7-46d5-b732-5810023490e5"
      },
      "outputs": [
        {
          "output_type": "stream",
          "name": "stdout",
          "text": [
            "\n",
            " Pilih jenis password:\n",
            "1. Huruf kecil saja\n",
            "2. Huruf besar saja\n",
            "3. Huruf besar dan kecil\n",
            "4. Huruf, angka, dan simbol\n",
            "Silahkan Masukan Pilihan anda 1-4:4\n",
            "\n",
            " Masukan Panjang karakter(Minimal 6 karakter:)7\n",
            "Panjang password anda adalah: 7\n",
            "Password anda adalah: Kz@1}R/\n"
          ]
        }
      ],
      "source": [
        "#Uji Coba - Password Generator dengan Kustomisasi\n",
        "\n",
        "import random\n",
        "\n",
        "password_1 = \"abcdefghijklmnopqrstuvwxyz\"\n",
        "password_2 = \"ABCDEFGHIJKLMNOPQRSTUVWXYZ\"\n",
        "password_3 = \"abcdefghijklmnopqrstuvwxyzABCDEFGHIJKLMNOPQRSTUVWXYZ\"\n",
        "password_4 = \"abcdefghijklmnopqrstuvwxyzABCDEFGHIJKLMNOPQRSTUVWXYZ1234567890!@#$%^&*()-_=+[]{}:.,<>?/\\|`'\"\n",
        "\n",
        "all_characters = password_1 + password_2 + password_3 + password_4\n",
        "\n",
        "while True:\n",
        "  try:\n",
        "    print(\"\\n Pilih jenis password:\")\n",
        "    print(\"1. Huruf kecil saja\")\n",
        "    print(\"2. Huruf besar saja\")\n",
        "    print(\"3. Huruf besar dan kecil\")\n",
        "    print(\"4. Huruf, angka, dan simbol\")\n",
        "\n",
        "    choices = int(input(\"Silahkan Masukan Pilihan anda 1-4:\"))\n",
        "\n",
        "    if choices == 1:\n",
        "      all_characters = password_1\n",
        "    elif choices == 2:\n",
        "      all_characters = password_2\n",
        "    elif choices == 3:\n",
        "      all_characters = password_3\n",
        "    elif choices == 4:\n",
        "      all_characters = password_4\n",
        "    else:\n",
        "      print(\"Pilihan hanya angka 1-4\")\n",
        "    break\n",
        "  except ValueError:\n",
        "        print(\"Pilihan tidak valid, silahkan coba lagi!\")\n",
        "\n",
        "while True:\n",
        "    try:\n",
        "      length = int(input(\"\\n Masukan Panjang karakter(Minimal 6 karakter:)\"))\n",
        "      if length < 6:\n",
        "        print(\"Panjang password minimal 6 karakter, Silahkan coba lagi!\")\n",
        "      else:\n",
        "        break\n",
        "    except ValueError:\n",
        "      print(\"Pilihan tidak valid, Silahkan coba lagi!\")\n",
        "\n",
        "password = \"\".join(random.choices(all_characters, k=length))\n",
        "\n",
        "print(\"Panjang password anda adalah:\", length)\n",
        "print(\"Password anda adalah:\", password)"
      ]
    },
    {
      "cell_type": "code",
      "execution_count": 11,
      "metadata": {
        "id": "h0ELmJbEAJXJ",
        "colab": {
          "base_uri": "https://localhost:8080/"
        },
        "outputId": "e7221486-ca8c-42ee-e33c-d791458f5a90"
      },
      "outputs": [
        {
          "output_type": "stream",
          "name": "stdout",
          "text": [
            "Masukan panjang password (minimal 6 karakter):7\n",
            "\n",
            " Panjang password yang diminta: 7\n",
            "Password anda: `G\\$8N>\n",
            "\n",
            " Simpan password ke file ? (y/n):n\n",
            "Password tidak disimpan.\n"
          ]
        }
      ],
      "source": [
        "# Uji coba - Password Generator dengan File Output\n",
        "\n",
        "import random\n",
        "import datetime\n",
        "\n",
        "letters = \"abcdefghijklmnopqrstuvwxyzABCDEFGHIJKLMNOPQRSTUVWXYZ\"\n",
        "numbers = \"1234567890\"\n",
        "symbols = \"!@#$%^&*()-_=+[]{}:.,<>?/\\\\|`'\"\n",
        "\n",
        "all_characters = letters + numbers + symbols\n",
        "\n",
        "while True:\n",
        "  try:\n",
        "      length = int(input(\"Masukan panjang password (minimal 6 karakter):\"))\n",
        "      if length < 6:\n",
        "        print(\"Panjang password minimal 6 karakter! silahkan coba lagi.\")\n",
        "      else:\n",
        "        break\n",
        "  except ValueError:\n",
        "          print(\"Masukan angka yang valid!\")\n",
        "\n",
        "password = \"\".join(random.choices(all_characters, k=length))\n",
        "\n",
        "print(\"\\n Panjang password yang diminta:\", length)\n",
        "print(\"Password anda:\", password)\n",
        "\n",
        "while True:\n",
        "    save_option = input(\"\\n Simpan password ke file ? (y/n):\") .strip().lower()\n",
        "    if save_option == 'y':\n",
        "      timestamp = datetime.datetime.now().strftime(\"[%Y-%m-%d %H:%M:%S]\")\n",
        "      with open(\"passwords.txt\", \"a\") as file:\n",
        "          file.write(f\"{timestamp} Password:{password}\\n\")\n",
        "          print(\"Password berhasil disimpan ke password.txt\")\n",
        "          break\n",
        "    elif save_option == 'n':\n",
        "        print(\"Password tidak disimpan.\")\n",
        "        break\n",
        "    else:\n",
        "        print(\"Pilihan tidak valid! Masukkan 'y' untuk menyimpan atau 'n' untuk tidak menyimpan.\")"
      ]
    }
  ],
  "metadata": {
    "colab": {
      "provenance": []
    },
    "kernelspec": {
      "display_name": "Python 3",
      "name": "python3"
    },
    "language_info": {
      "name": "python"
    }
  },
  "nbformat": 4,
  "nbformat_minor": 0
}
